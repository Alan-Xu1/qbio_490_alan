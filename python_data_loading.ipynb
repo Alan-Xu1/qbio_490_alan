{
 "cells": [
  {
   "cell_type": "code",
   "execution_count": null,
   "id": "986befc2",
   "metadata": {},
   "outputs": [],
   "source": [
    "import os\n",
    "os.chdir('/mnt/c/Users/alanx/Desktop/QBIO490/qbio_490_alan')\n",
    "import cptac\n",
    "cptac.download(dataset=\"Brca\")"
   ]
  }
 ],
 "metadata": {
  "kernelspec": {
   "display_name": "Python 3 (ipykernel)",
   "language": "python",
   "name": "python3"
  },
  "language_info": {
   "codemirror_mode": {
    "name": "ipython",
    "version": 3
   },
   "file_extension": ".py",
   "mimetype": "text/x-python",
   "name": "python",
   "nbconvert_exporter": "python",
   "pygments_lexer": "ipython3",
   "version": "3.9.16"
  }
 },
 "nbformat": 4,
 "nbformat_minor": 5
}
